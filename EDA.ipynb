{
 "cells": [
  {
   "cell_type": "code",
   "execution_count": 1,
   "id": "cc586ac2",
   "metadata": {},
   "outputs": [],
   "source": [
    "#importing all librabries\n",
    "\n",
    "import numpy as np\n",
    "import pandas as pd\n",
    "import statsmodels.api as sns\n",
    "from matplotlib import pyplot as plt\n",
    "import seaborn as sn\n",
    "from sklearn.preprocessing import LabelEncoder\n",
    "import scipy.stats as stats"
   ]
  },
  {
   "cell_type": "code",
   "execution_count": 2,
   "id": "6c080d5c",
   "metadata": {},
   "outputs": [],
   "source": [
    " #loading data\n",
    "    \n",
    "df=pd.read_csv(r\"C:\\Users\\keert\\Downloads\\train.csv\")"
   ]
  },
  {
   "cell_type": "code",
   "execution_count": 4,
   "id": "ff6313c2",
   "metadata": {},
   "outputs": [
    {
     "data": {
      "text/html": [
       "<div>\n",
       "<style scoped>\n",
       "    .dataframe tbody tr th:only-of-type {\n",
       "        vertical-align: middle;\n",
       "    }\n",
       "\n",
       "    .dataframe tbody tr th {\n",
       "        vertical-align: top;\n",
       "    }\n",
       "\n",
       "    .dataframe thead th {\n",
       "        text-align: right;\n",
       "    }\n",
       "</style>\n",
       "<table border=\"1\" class=\"dataframe\">\n",
       "  <thead>\n",
       "    <tr style=\"text-align: right;\">\n",
       "      <th></th>\n",
       "      <th>Video_id</th>\n",
       "      <th>category_id</th>\n",
       "      <th>channel_title</th>\n",
       "      <th>subscriber</th>\n",
       "      <th>title</th>\n",
       "      <th>tags</th>\n",
       "      <th>description</th>\n",
       "      <th>Trend_day_count</th>\n",
       "      <th>Tag_count</th>\n",
       "      <th>Trend_tag_count</th>\n",
       "      <th>comment_count</th>\n",
       "      <th>comment_disabled</th>\n",
       "      <th>like dislike disabled</th>\n",
       "      <th>likes</th>\n",
       "      <th>dislike</th>\n",
       "      <th>tag appered in title</th>\n",
       "      <th>views</th>\n",
       "      <th>Unnamed: 17</th>\n",
       "      <th>Unnamed: 18</th>\n",
       "    </tr>\n",
       "  </thead>\n",
       "  <tbody>\n",
       "    <tr>\n",
       "      <th>0</th>\n",
       "      <td>HDR9SQc79</td>\n",
       "      <td>22</td>\n",
       "      <td>CaseyNeistat</td>\n",
       "      <td>9086142.0</td>\n",
       "      <td>WE WANT TO TALK ABOUT OUR MARRIAGE</td>\n",
       "      <td>SHANtell martin</td>\n",
       "      <td>SHANTELL'S CHANNEL - https://www.youtube.com/s...</td>\n",
       "      <td>6.0</td>\n",
       "      <td>21</td>\n",
       "      <td>6</td>\n",
       "      <td></td>\n",
       "      <td>FALSE</td>\n",
       "      <td>FALSE</td>\n",
       "      <td>13342</td>\n",
       "      <td>6089</td>\n",
       "      <td>False</td>\n",
       "      <td>1978978</td>\n",
       "      <td>NaN</td>\n",
       "      <td>NaN</td>\n",
       "    </tr>\n",
       "    <tr>\n",
       "      <th>1</th>\n",
       "      <td>KNH52UF?48</td>\n",
       "      <td>24</td>\n",
       "      <td>LastWeekTonight</td>\n",
       "      <td>5937292.0</td>\n",
       "      <td>The Trump Presidency: Last Week Tonight with J...</td>\n",
       "      <td>last week tonight trump presidency|last week t...</td>\n",
       "      <td>One year after the presidential election, John...</td>\n",
       "      <td>1.0</td>\n",
       "      <td>23</td>\n",
       "      <td>1</td>\n",
       "      <td>116266</td>\n",
       "      <td>TRUE</td>\n",
       "      <td>FALSE</td>\n",
       "      <td>5761</td>\n",
       "      <td>3044</td>\n",
       "      <td>False</td>\n",
       "      <td>1487870</td>\n",
       "      <td>NaN</td>\n",
       "      <td>NaN</td>\n",
       "    </tr>\n",
       "    <tr>\n",
       "      <th>2</th>\n",
       "      <td>QTW28IRG36</td>\n",
       "      <td>23</td>\n",
       "      <td>Rudy Mancuso</td>\n",
       "      <td>4191209.0</td>\n",
       "      <td>Racist Superman | Rudy Mancuso, King Bach &amp; Le...</td>\n",
       "      <td>racist superman|rudy|mancuso|king|bach|racist|...</td>\n",
       "      <td>WATCH MY PREVIOUS VIDEO ▶ \\n\\nSUBSCRIBE ► http...</td>\n",
       "      <td>10.0</td>\n",
       "      <td>22</td>\n",
       "      <td>3</td>\n",
       "      <td>257850</td>\n",
       "      <td>TRUE</td>\n",
       "      <td>TRUE</td>\n",
       "      <td>0</td>\n",
       "      <td>0</td>\n",
       "      <td>True</td>\n",
       "      <td>1502102</td>\n",
       "      <td>NaN</td>\n",
       "      <td>NaN</td>\n",
       "    </tr>\n",
       "    <tr>\n",
       "      <th>3</th>\n",
       "      <td>MGL76WI]26</td>\n",
       "      <td>24</td>\n",
       "      <td>Good Mythical Morning</td>\n",
       "      <td>13186408.0</td>\n",
       "      <td>Nickelback Lyrics: Real or Fake?</td>\n",
       "      <td>rhett and link|gmm|good mythical morning|rhett...</td>\n",
       "      <td>Today we find out if Link is a Nickelback amat...</td>\n",
       "      <td>12.0</td>\n",
       "      <td>17</td>\n",
       "      <td>5</td>\n",
       "      <td>263939</td>\n",
       "      <td>TRUE</td>\n",
       "      <td>TRUE</td>\n",
       "      <td>0</td>\n",
       "      <td>0</td>\n",
       "      <td>True</td>\n",
       "      <td>3519302</td>\n",
       "      <td>NaN</td>\n",
       "      <td>NaN</td>\n",
       "    </tr>\n",
       "    <tr>\n",
       "      <th>4</th>\n",
       "      <td>TWP93KXT70</td>\n",
       "      <td>24</td>\n",
       "      <td>nigahiga</td>\n",
       "      <td>20563106.0</td>\n",
       "      <td>I Dare You: GOING BALD!?</td>\n",
       "      <td>ryan|higa|higatv|nigahiga|i dare you|idy|rhpc|...</td>\n",
       "      <td>I know it's been a while since we did this sho...</td>\n",
       "      <td>11.0</td>\n",
       "      <td>15</td>\n",
       "      <td>7</td>\n",
       "      <td>268085</td>\n",
       "      <td>TRUE</td>\n",
       "      <td>TRUE</td>\n",
       "      <td>0</td>\n",
       "      <td>0</td>\n",
       "      <td>True</td>\n",
       "      <td>4835374</td>\n",
       "      <td>NaN</td>\n",
       "      <td>NaN</td>\n",
       "    </tr>\n",
       "  </tbody>\n",
       "</table>\n",
       "</div>"
      ],
      "text/plain": [
       "     Video_id category_id          channel_title  subscriber  \\\n",
       "0   HDR9SQc79          22           CaseyNeistat   9086142.0   \n",
       "1  KNH52UF?48          24        LastWeekTonight   5937292.0   \n",
       "2  QTW28IRG36          23           Rudy Mancuso   4191209.0   \n",
       "3  MGL76WI]26          24  Good Mythical Morning  13186408.0   \n",
       "4  TWP93KXT70          24               nigahiga  20563106.0   \n",
       "\n",
       "                                               title  \\\n",
       "0                 WE WANT TO TALK ABOUT OUR MARRIAGE   \n",
       "1  The Trump Presidency: Last Week Tonight with J...   \n",
       "2  Racist Superman | Rudy Mancuso, King Bach & Le...   \n",
       "3                   Nickelback Lyrics: Real or Fake?   \n",
       "4                           I Dare You: GOING BALD!?   \n",
       "\n",
       "                                                tags  \\\n",
       "0                                    SHANtell martin   \n",
       "1  last week tonight trump presidency|last week t...   \n",
       "2  racist superman|rudy|mancuso|king|bach|racist|...   \n",
       "3  rhett and link|gmm|good mythical morning|rhett...   \n",
       "4  ryan|higa|higatv|nigahiga|i dare you|idy|rhpc|...   \n",
       "\n",
       "                                         description  Trend_day_count  \\\n",
       "0  SHANTELL'S CHANNEL - https://www.youtube.com/s...              6.0   \n",
       "1  One year after the presidential election, John...              1.0   \n",
       "2  WATCH MY PREVIOUS VIDEO ▶ \\n\\nSUBSCRIBE ► http...             10.0   \n",
       "3  Today we find out if Link is a Nickelback amat...             12.0   \n",
       "4  I know it's been a while since we did this sho...             11.0   \n",
       "\n",
       "  Tag_count Trend_tag_count comment_count comment_disabled  \\\n",
       "0        21               6                          FALSE   \n",
       "1        23               1        116266             TRUE   \n",
       "2        22               3        257850             TRUE   \n",
       "3        17               5        263939             TRUE   \n",
       "4        15               7        268085             TRUE   \n",
       "\n",
       "  like dislike disabled  likes dislike tag appered in title    views  \\\n",
       "0                 FALSE  13342    6089                False  1978978   \n",
       "1                 FALSE   5761    3044                False  1487870   \n",
       "2                  TRUE      0       0                 True  1502102   \n",
       "3                  TRUE      0       0                 True  3519302   \n",
       "4                  TRUE      0       0                 True  4835374   \n",
       "\n",
       "   Unnamed: 17 Unnamed: 18  \n",
       "0          NaN         NaN  \n",
       "1          NaN         NaN  \n",
       "2          NaN         NaN  \n",
       "3          NaN         NaN  \n",
       "4          NaN         NaN  "
      ]
     },
     "execution_count": 4,
     "metadata": {},
     "output_type": "execute_result"
    }
   ],
   "source": [
    "#Reading data\n",
    "\n",
    "df.head()"
   ]
  },
  {
   "cell_type": "code",
   "execution_count": 5,
   "id": "31469799",
   "metadata": {},
   "outputs": [
    {
     "data": {
      "text/plain": [
       "(3198, 19)"
      ]
     },
     "execution_count": 5,
     "metadata": {},
     "output_type": "execute_result"
    }
   ],
   "source": [
    "df.shape"
   ]
  },
  {
   "cell_type": "code",
   "execution_count": 6,
   "id": "82b18cad",
   "metadata": {},
   "outputs": [
    {
     "data": {
      "text/html": [
       "<div>\n",
       "<style scoped>\n",
       "    .dataframe tbody tr th:only-of-type {\n",
       "        vertical-align: middle;\n",
       "    }\n",
       "\n",
       "    .dataframe tbody tr th {\n",
       "        vertical-align: top;\n",
       "    }\n",
       "\n",
       "    .dataframe thead th {\n",
       "        text-align: right;\n",
       "    }\n",
       "</style>\n",
       "<table border=\"1\" class=\"dataframe\">\n",
       "  <thead>\n",
       "    <tr style=\"text-align: right;\">\n",
       "      <th></th>\n",
       "      <th>subscriber</th>\n",
       "      <th>Trend_day_count</th>\n",
       "      <th>Unnamed: 17</th>\n",
       "    </tr>\n",
       "  </thead>\n",
       "  <tbody>\n",
       "    <tr>\n",
       "      <th>count</th>\n",
       "      <td>3.175000e+03</td>\n",
       "      <td>3197.000000</td>\n",
       "      <td>1.0</td>\n",
       "    </tr>\n",
       "    <tr>\n",
       "      <th>mean</th>\n",
       "      <td>3.823981e+06</td>\n",
       "      <td>7.964342</td>\n",
       "      <td>2544.0</td>\n",
       "    </tr>\n",
       "    <tr>\n",
       "      <th>std</th>\n",
       "      <td>2.865771e+07</td>\n",
       "      <td>78.556055</td>\n",
       "      <td>NaN</td>\n",
       "    </tr>\n",
       "    <tr>\n",
       "      <th>min</th>\n",
       "      <td>0.000000e+00</td>\n",
       "      <td>0.000000</td>\n",
       "      <td>2544.0</td>\n",
       "    </tr>\n",
       "    <tr>\n",
       "      <th>25%</th>\n",
       "      <td>2.428800e+05</td>\n",
       "      <td>4.000000</td>\n",
       "      <td>2544.0</td>\n",
       "    </tr>\n",
       "    <tr>\n",
       "      <th>50%</th>\n",
       "      <td>1.241220e+06</td>\n",
       "      <td>7.000000</td>\n",
       "      <td>2544.0</td>\n",
       "    </tr>\n",
       "    <tr>\n",
       "      <th>75%</th>\n",
       "      <td>3.812622e+06</td>\n",
       "      <td>10.000000</td>\n",
       "      <td>2544.0</td>\n",
       "    </tr>\n",
       "    <tr>\n",
       "      <th>max</th>\n",
       "      <td>1.576229e+09</td>\n",
       "      <td>4444.000000</td>\n",
       "      <td>2544.0</td>\n",
       "    </tr>\n",
       "  </tbody>\n",
       "</table>\n",
       "</div>"
      ],
      "text/plain": [
       "         subscriber  Trend_day_count  Unnamed: 17\n",
       "count  3.175000e+03      3197.000000          1.0\n",
       "mean   3.823981e+06         7.964342       2544.0\n",
       "std    2.865771e+07        78.556055          NaN\n",
       "min    0.000000e+00         0.000000       2544.0\n",
       "25%    2.428800e+05         4.000000       2544.0\n",
       "50%    1.241220e+06         7.000000       2544.0\n",
       "75%    3.812622e+06        10.000000       2544.0\n",
       "max    1.576229e+09      4444.000000       2544.0"
      ]
     },
     "execution_count": 6,
     "metadata": {},
     "output_type": "execute_result"
    }
   ],
   "source": [
    "df.describe()   #numerical features"
   ]
  },
  {
   "cell_type": "code",
   "execution_count": 7,
   "id": "8d69086e",
   "metadata": {},
   "outputs": [
    {
     "data": {
      "text/plain": [
       "Video_id                  object\n",
       "category_id               object\n",
       "channel_title             object\n",
       "subscriber               float64\n",
       "title                     object\n",
       "tags                      object\n",
       "description               object\n",
       "Trend_day_count          float64\n",
       "Tag_count                 object\n",
       "Trend_tag_count           object\n",
       "comment_count             object\n",
       "comment_disabled          object\n",
       "like dislike disabled     object\n",
       "likes                     object\n",
       "dislike                   object\n",
       "tag appered in title      object\n",
       "views                     object\n",
       "Unnamed: 17              float64\n",
       "Unnamed: 18               object\n",
       "dtype: object"
      ]
     },
     "execution_count": 7,
     "metadata": {},
     "output_type": "execute_result"
    }
   ],
   "source": [
    "df.dtypes"
   ]
  },
  {
   "cell_type": "code",
   "execution_count": 8,
   "id": "93fde3d4",
   "metadata": {},
   "outputs": [
    {
     "data": {
      "text/html": [
       "<div>\n",
       "<style scoped>\n",
       "    .dataframe tbody tr th:only-of-type {\n",
       "        vertical-align: middle;\n",
       "    }\n",
       "\n",
       "    .dataframe tbody tr th {\n",
       "        vertical-align: top;\n",
       "    }\n",
       "\n",
       "    .dataframe thead th {\n",
       "        text-align: right;\n",
       "    }\n",
       "</style>\n",
       "<table border=\"1\" class=\"dataframe\">\n",
       "  <thead>\n",
       "    <tr style=\"text-align: right;\">\n",
       "      <th></th>\n",
       "      <th>Video_id</th>\n",
       "      <th>category_id</th>\n",
       "      <th>channel_title</th>\n",
       "      <th>subscriber</th>\n",
       "      <th>title</th>\n",
       "      <th>tags</th>\n",
       "      <th>description</th>\n",
       "      <th>Trend_day_count</th>\n",
       "      <th>Tag_count</th>\n",
       "      <th>Trend_tag_count</th>\n",
       "      <th>comment_count</th>\n",
       "      <th>comment_disabled</th>\n",
       "      <th>like dislike disabled</th>\n",
       "      <th>likes</th>\n",
       "      <th>dislike</th>\n",
       "      <th>tag appered in title</th>\n",
       "      <th>views</th>\n",
       "      <th>Unnamed: 17</th>\n",
       "      <th>Unnamed: 18</th>\n",
       "    </tr>\n",
       "  </thead>\n",
       "  <tbody>\n",
       "    <tr>\n",
       "      <th>count</th>\n",
       "      <td>3198</td>\n",
       "      <td>3192</td>\n",
       "      <td>3195</td>\n",
       "      <td>3.175000e+03</td>\n",
       "      <td>3195</td>\n",
       "      <td>3046</td>\n",
       "      <td>3133</td>\n",
       "      <td>3197.000000</td>\n",
       "      <td>3197</td>\n",
       "      <td>3197</td>\n",
       "      <td>3198</td>\n",
       "      <td>3198</td>\n",
       "      <td>3198</td>\n",
       "      <td>3198</td>\n",
       "      <td>3198</td>\n",
       "      <td>3197</td>\n",
       "      <td>3198</td>\n",
       "      <td>1.0</td>\n",
       "      <td>1</td>\n",
       "    </tr>\n",
       "    <tr>\n",
       "      <th>unique</th>\n",
       "      <td>3198</td>\n",
       "      <td>17</td>\n",
       "      <td>1501</td>\n",
       "      <td>NaN</td>\n",
       "      <td>3191</td>\n",
       "      <td>2946</td>\n",
       "      <td>3097</td>\n",
       "      <td>NaN</td>\n",
       "      <td>22</td>\n",
       "      <td>10</td>\n",
       "      <td>2174</td>\n",
       "      <td>3</td>\n",
       "      <td>3</td>\n",
       "      <td>2210</td>\n",
       "      <td>2155</td>\n",
       "      <td>2</td>\n",
       "      <td>3194</td>\n",
       "      <td>NaN</td>\n",
       "      <td>1</td>\n",
       "    </tr>\n",
       "    <tr>\n",
       "      <th>top</th>\n",
       "      <td>HDR9SQc79</td>\n",
       "      <td>24</td>\n",
       "      <td>The Tonight Show Starring Jimmy Fallon</td>\n",
       "      <td>NaN</td>\n",
       "      <td>Sia - Ho Ho Ho</td>\n",
       "      <td>The Late Show|Stephen Colbert|Colbert|Late Sho...</td>\n",
       "      <td>Jukin Media Verified (Original) * For licensin...</td>\n",
       "      <td>NaN</td>\n",
       "      <td>24</td>\n",
       "      <td>6</td>\n",
       "      <td></td>\n",
       "      <td>TRUE</td>\n",
       "      <td>FALSE</td>\n",
       "      <td>0</td>\n",
       "      <td>0</td>\n",
       "      <td>True</td>\n",
       "      <td>858323</td>\n",
       "      <td>NaN</td>\n",
       "      <td>False</td>\n",
       "    </tr>\n",
       "    <tr>\n",
       "      <th>freq</th>\n",
       "      <td>1</td>\n",
       "      <td>786</td>\n",
       "      <td>34</td>\n",
       "      <td>NaN</td>\n",
       "      <td>2</td>\n",
       "      <td>25</td>\n",
       "      <td>10</td>\n",
       "      <td>NaN</td>\n",
       "      <td>217</td>\n",
       "      <td>475</td>\n",
       "      <td>1015</td>\n",
       "      <td>2182</td>\n",
       "      <td>2354</td>\n",
       "      <td>843</td>\n",
       "      <td>844</td>\n",
       "      <td>2108</td>\n",
       "      <td>2</td>\n",
       "      <td>NaN</td>\n",
       "      <td>1</td>\n",
       "    </tr>\n",
       "    <tr>\n",
       "      <th>mean</th>\n",
       "      <td>NaN</td>\n",
       "      <td>NaN</td>\n",
       "      <td>NaN</td>\n",
       "      <td>3.823981e+06</td>\n",
       "      <td>NaN</td>\n",
       "      <td>NaN</td>\n",
       "      <td>NaN</td>\n",
       "      <td>7.964342</td>\n",
       "      <td>NaN</td>\n",
       "      <td>NaN</td>\n",
       "      <td>NaN</td>\n",
       "      <td>NaN</td>\n",
       "      <td>NaN</td>\n",
       "      <td>NaN</td>\n",
       "      <td>NaN</td>\n",
       "      <td>NaN</td>\n",
       "      <td>NaN</td>\n",
       "      <td>2544.0</td>\n",
       "      <td>NaN</td>\n",
       "    </tr>\n",
       "    <tr>\n",
       "      <th>std</th>\n",
       "      <td>NaN</td>\n",
       "      <td>NaN</td>\n",
       "      <td>NaN</td>\n",
       "      <td>2.865771e+07</td>\n",
       "      <td>NaN</td>\n",
       "      <td>NaN</td>\n",
       "      <td>NaN</td>\n",
       "      <td>78.556055</td>\n",
       "      <td>NaN</td>\n",
       "      <td>NaN</td>\n",
       "      <td>NaN</td>\n",
       "      <td>NaN</td>\n",
       "      <td>NaN</td>\n",
       "      <td>NaN</td>\n",
       "      <td>NaN</td>\n",
       "      <td>NaN</td>\n",
       "      <td>NaN</td>\n",
       "      <td>NaN</td>\n",
       "      <td>NaN</td>\n",
       "    </tr>\n",
       "    <tr>\n",
       "      <th>min</th>\n",
       "      <td>NaN</td>\n",
       "      <td>NaN</td>\n",
       "      <td>NaN</td>\n",
       "      <td>0.000000e+00</td>\n",
       "      <td>NaN</td>\n",
       "      <td>NaN</td>\n",
       "      <td>NaN</td>\n",
       "      <td>0.000000</td>\n",
       "      <td>NaN</td>\n",
       "      <td>NaN</td>\n",
       "      <td>NaN</td>\n",
       "      <td>NaN</td>\n",
       "      <td>NaN</td>\n",
       "      <td>NaN</td>\n",
       "      <td>NaN</td>\n",
       "      <td>NaN</td>\n",
       "      <td>NaN</td>\n",
       "      <td>2544.0</td>\n",
       "      <td>NaN</td>\n",
       "    </tr>\n",
       "    <tr>\n",
       "      <th>25%</th>\n",
       "      <td>NaN</td>\n",
       "      <td>NaN</td>\n",
       "      <td>NaN</td>\n",
       "      <td>2.428800e+05</td>\n",
       "      <td>NaN</td>\n",
       "      <td>NaN</td>\n",
       "      <td>NaN</td>\n",
       "      <td>4.000000</td>\n",
       "      <td>NaN</td>\n",
       "      <td>NaN</td>\n",
       "      <td>NaN</td>\n",
       "      <td>NaN</td>\n",
       "      <td>NaN</td>\n",
       "      <td>NaN</td>\n",
       "      <td>NaN</td>\n",
       "      <td>NaN</td>\n",
       "      <td>NaN</td>\n",
       "      <td>2544.0</td>\n",
       "      <td>NaN</td>\n",
       "    </tr>\n",
       "    <tr>\n",
       "      <th>50%</th>\n",
       "      <td>NaN</td>\n",
       "      <td>NaN</td>\n",
       "      <td>NaN</td>\n",
       "      <td>1.241220e+06</td>\n",
       "      <td>NaN</td>\n",
       "      <td>NaN</td>\n",
       "      <td>NaN</td>\n",
       "      <td>7.000000</td>\n",
       "      <td>NaN</td>\n",
       "      <td>NaN</td>\n",
       "      <td>NaN</td>\n",
       "      <td>NaN</td>\n",
       "      <td>NaN</td>\n",
       "      <td>NaN</td>\n",
       "      <td>NaN</td>\n",
       "      <td>NaN</td>\n",
       "      <td>NaN</td>\n",
       "      <td>2544.0</td>\n",
       "      <td>NaN</td>\n",
       "    </tr>\n",
       "    <tr>\n",
       "      <th>75%</th>\n",
       "      <td>NaN</td>\n",
       "      <td>NaN</td>\n",
       "      <td>NaN</td>\n",
       "      <td>3.812622e+06</td>\n",
       "      <td>NaN</td>\n",
       "      <td>NaN</td>\n",
       "      <td>NaN</td>\n",
       "      <td>10.000000</td>\n",
       "      <td>NaN</td>\n",
       "      <td>NaN</td>\n",
       "      <td>NaN</td>\n",
       "      <td>NaN</td>\n",
       "      <td>NaN</td>\n",
       "      <td>NaN</td>\n",
       "      <td>NaN</td>\n",
       "      <td>NaN</td>\n",
       "      <td>NaN</td>\n",
       "      <td>2544.0</td>\n",
       "      <td>NaN</td>\n",
       "    </tr>\n",
       "    <tr>\n",
       "      <th>max</th>\n",
       "      <td>NaN</td>\n",
       "      <td>NaN</td>\n",
       "      <td>NaN</td>\n",
       "      <td>1.576229e+09</td>\n",
       "      <td>NaN</td>\n",
       "      <td>NaN</td>\n",
       "      <td>NaN</td>\n",
       "      <td>4444.000000</td>\n",
       "      <td>NaN</td>\n",
       "      <td>NaN</td>\n",
       "      <td>NaN</td>\n",
       "      <td>NaN</td>\n",
       "      <td>NaN</td>\n",
       "      <td>NaN</td>\n",
       "      <td>NaN</td>\n",
       "      <td>NaN</td>\n",
       "      <td>NaN</td>\n",
       "      <td>2544.0</td>\n",
       "      <td>NaN</td>\n",
       "    </tr>\n",
       "  </tbody>\n",
       "</table>\n",
       "</div>"
      ],
      "text/plain": [
       "         Video_id category_id                           channel_title  \\\n",
       "count        3198        3192                                    3195   \n",
       "unique       3198          17                                    1501   \n",
       "top     HDR9SQc79          24  The Tonight Show Starring Jimmy Fallon   \n",
       "freq            1         786                                      34   \n",
       "mean          NaN         NaN                                     NaN   \n",
       "std           NaN         NaN                                     NaN   \n",
       "min           NaN         NaN                                     NaN   \n",
       "25%           NaN         NaN                                     NaN   \n",
       "50%           NaN         NaN                                     NaN   \n",
       "75%           NaN         NaN                                     NaN   \n",
       "max           NaN         NaN                                     NaN   \n",
       "\n",
       "          subscriber           title  \\\n",
       "count   3.175000e+03            3195   \n",
       "unique           NaN            3191   \n",
       "top              NaN  Sia - Ho Ho Ho   \n",
       "freq             NaN               2   \n",
       "mean    3.823981e+06             NaN   \n",
       "std     2.865771e+07             NaN   \n",
       "min     0.000000e+00             NaN   \n",
       "25%     2.428800e+05             NaN   \n",
       "50%     1.241220e+06             NaN   \n",
       "75%     3.812622e+06             NaN   \n",
       "max     1.576229e+09             NaN   \n",
       "\n",
       "                                                     tags  \\\n",
       "count                                                3046   \n",
       "unique                                               2946   \n",
       "top     The Late Show|Stephen Colbert|Colbert|Late Sho...   \n",
       "freq                                                   25   \n",
       "mean                                                  NaN   \n",
       "std                                                   NaN   \n",
       "min                                                   NaN   \n",
       "25%                                                   NaN   \n",
       "50%                                                   NaN   \n",
       "75%                                                   NaN   \n",
       "max                                                   NaN   \n",
       "\n",
       "                                              description  Trend_day_count  \\\n",
       "count                                                3133      3197.000000   \n",
       "unique                                               3097              NaN   \n",
       "top     Jukin Media Verified (Original) * For licensin...              NaN   \n",
       "freq                                                   10              NaN   \n",
       "mean                                                  NaN         7.964342   \n",
       "std                                                   NaN        78.556055   \n",
       "min                                                   NaN         0.000000   \n",
       "25%                                                   NaN         4.000000   \n",
       "50%                                                   NaN         7.000000   \n",
       "75%                                                   NaN        10.000000   \n",
       "max                                                   NaN      4444.000000   \n",
       "\n",
       "       Tag_count Trend_tag_count comment_count comment_disabled  \\\n",
       "count       3197            3197          3198             3198   \n",
       "unique        22              10          2174                3   \n",
       "top           24               6                           TRUE   \n",
       "freq         217             475          1015             2182   \n",
       "mean         NaN             NaN           NaN              NaN   \n",
       "std          NaN             NaN           NaN              NaN   \n",
       "min          NaN             NaN           NaN              NaN   \n",
       "25%          NaN             NaN           NaN              NaN   \n",
       "50%          NaN             NaN           NaN              NaN   \n",
       "75%          NaN             NaN           NaN              NaN   \n",
       "max          NaN             NaN           NaN              NaN   \n",
       "\n",
       "       like dislike disabled likes dislike tag appered in title   views  \\\n",
       "count                   3198  3198    3198                 3197    3198   \n",
       "unique                     3  2210    2155                    2    3194   \n",
       "top                    FALSE     0       0                 True  858323   \n",
       "freq                    2354   843     844                 2108       2   \n",
       "mean                     NaN   NaN     NaN                  NaN     NaN   \n",
       "std                      NaN   NaN     NaN                  NaN     NaN   \n",
       "min                      NaN   NaN     NaN                  NaN     NaN   \n",
       "25%                      NaN   NaN     NaN                  NaN     NaN   \n",
       "50%                      NaN   NaN     NaN                  NaN     NaN   \n",
       "75%                      NaN   NaN     NaN                  NaN     NaN   \n",
       "max                      NaN   NaN     NaN                  NaN     NaN   \n",
       "\n",
       "        Unnamed: 17 Unnamed: 18  \n",
       "count           1.0           1  \n",
       "unique          NaN           1  \n",
       "top             NaN       False  \n",
       "freq            NaN           1  \n",
       "mean         2544.0         NaN  \n",
       "std             NaN         NaN  \n",
       "min          2544.0         NaN  \n",
       "25%          2544.0         NaN  \n",
       "50%          2544.0         NaN  \n",
       "75%          2544.0         NaN  \n",
       "max          2544.0         NaN  "
      ]
     },
     "execution_count": 8,
     "metadata": {},
     "output_type": "execute_result"
    }
   ],
   "source": [
    "df.describe(include='all')"
   ]
  },
  {
   "cell_type": "code",
   "execution_count": 15,
   "id": "5a89e9e2",
   "metadata": {},
   "outputs": [
    {
     "data": {
      "text/plain": [
       "Video_id                 3198\n",
       "category_id                17\n",
       "channel_title            1501\n",
       "subscriber               1452\n",
       "title                    3191\n",
       "tags                     2946\n",
       "description              3097\n",
       "Trend_day_count            14\n",
       "Tag_count                  22\n",
       "Trend_tag_count            10\n",
       "comment_count            2174\n",
       "comment_disabled            3\n",
       "like dislike disabled       3\n",
       "likes                    2210\n",
       "dislike                  2155\n",
       "tag appered in title        2\n",
       "views                    3194\n",
       "Unnamed: 17                 1\n",
       "Unnamed: 18                 1\n",
       "dtype: int64"
      ]
     },
     "execution_count": 15,
     "metadata": {},
     "output_type": "execute_result"
    }
   ],
   "source": [
    "#Finding the unique values of columns\n",
    "df.nunique()"
   ]
  },
  {
   "cell_type": "code",
   "execution_count": 16,
   "id": "9496e92d",
   "metadata": {},
   "outputs": [
    {
     "name": "stderr",
     "output_type": "stream",
     "text": [
      "C:\\Users\\keert\\anaconda3\\lib\\site-packages\\seaborn\\distributions.py:2619: FutureWarning: `distplot` is a deprecated function and will be removed in a future version. Please adapt your code to use either `displot` (a figure-level function with similar flexibility) or `histplot` (an axes-level function for histograms).\n",
      "  warnings.warn(msg, FutureWarning)\n"
     ]
    },
    {
     "data": {
      "text/plain": [
       "<AxesSubplot:xlabel='subscriber', ylabel='Density'>"
      ]
     },
     "execution_count": 16,
     "metadata": {},
     "output_type": "execute_result"
    },
    {
     "data": {
      "image/png": "[encoded data removed]",
      "text/plain": [
       "<Figure size 432x288 with 1 Axes>"
      ]
     },
     "metadata": {
      "needs_background": "light"
     },
     "output_type": "display_data"
    }
   ],
   "source": [
    "#Univarient Analysis\n",
    "#Distrubution of subscriber\n",
    "\n",
    "sn.distplot(df['subscriber'],bins=4)"
   ]
  },
  {
   "cell_type": "code",
   "execution_count": 17,
   "id": "f84ed01c",
   "metadata": {},
   "outputs": [
    {
     "name": "stdout",
     "output_type": "stream",
     "text": [
      "Number of Numerical features:  3\n",
      "Index(['subscriber', 'Trend_day_count', 'Unnamed: 17'], dtype='object')\n",
      "Number of Categorical features:  16\n"
     ]
    }
   ],
   "source": [
    "# Pulling out names of numerical variables by conditioning dtypes NOT equal to object type\n",
    "numerical_features = df.dtypes[df.dtypes != \"object\"].index\n",
    "print(\"Number of Numerical features: \", len(numerical_features))\n",
    "print(numerical_features)\n",
    "# Pulling out names of categorical variables by conditioning dtypes equal to object type\n",
    "categorical_features = df.dtypes[df.dtypes == \"object\"].index\n",
    "print(\"Number of Categorical features: \", len(categorical_features))"
   ]
  },
  {
   "cell_type": "code",
   "execution_count": 18,
   "id": "d230c22e",
   "metadata": {},
   "outputs": [
    {
     "data": {
      "image/png": "[encoded data removed]",
      "text/plain": [
       "<Figure size 432x288 with 1 Axes>"
      ]
     },
     "metadata": {
      "needs_background": "light"
     },
     "output_type": "display_data"
    }
   ],
   "source": [
    "#Bivarient Analysis\n",
    "plt.scatter(df['subscriber'],df['Trend_day_count'])\n",
    "plt.title('subscriber vs trend_day_count')\n",
    "plt.xlabel('subscriber')\n",
    "plt.ylabel('Trend_day_count')\n",
    "plt.show()"
   ]
  },
  {
   "cell_type": "code",
   "execution_count": 35,
   "id": "55b7f9b1",
   "metadata": {},
   "outputs": [
    {
     "data": {
      "text/plain": [
       "<AxesSubplot:>"
      ]
     },
     "execution_count": 35,
     "metadata": {},
     "output_type": "execute_result"
    },
    {
     "data": {
      "image/png": "[encoded data removed]",
      "text/plain": [
       "<Figure size 432x288 with 2 Axes>"
      ]
     },
     "metadata": {
      "needs_background": "light"
     },
     "output_type": "display_data"
    }
   ],
   "source": [
    "sn.heatmap(df.corr(),annot=True,linewidth=0.3)"
   ]
  },
  {
   "cell_type": "code",
   "execution_count": 19,
   "id": "a8675bb3",
   "metadata": {},
   "outputs": [
    {
     "data": {
      "text/plain": [
       "Video_id                    0\n",
       "category_id                 6\n",
       "channel_title               3\n",
       "subscriber                 23\n",
       "title                       3\n",
       "tags                      152\n",
       "description                65\n",
       "Trend_day_count             1\n",
       "Tag_count                   1\n",
       "Trend_tag_count             1\n",
       "comment_count               0\n",
       "comment_disabled            0\n",
       "like dislike disabled       0\n",
       "likes                       0\n",
       "dislike                     0\n",
       "tag appered in title        1\n",
       "views                       0\n",
       "Unnamed: 17              3197\n",
       "Unnamed: 18              3197\n",
       "dtype: int64"
      ]
     },
     "execution_count": 19,
     "metadata": {},
     "output_type": "execute_result"
    }
   ],
   "source": [
    "#Performing EDA\n",
    "#Finding the Missing data\n",
    "df.isnull().sum()\n",
    "\n"
   ]
  },
  {
   "cell_type": "code",
   "execution_count": 37,
   "id": "e581e683",
   "metadata": {},
   "outputs": [
    {
     "data": {
      "text/plain": [
       "Video_id                  0.000000\n",
       "category_id               0.187617\n",
       "channel_title             0.093809\n",
       "subscriber                0.719199\n",
       "title                     0.093809\n",
       "tags                      4.752971\n",
       "description               2.032520\n",
       "Trend_day_count           0.031270\n",
       "Tag_count                 0.031270\n",
       "Trend_tag_count           0.031270\n",
       "comment_count             0.000000\n",
       "comment_disabled          0.000000\n",
       "like dislike disabled     0.000000\n",
       "likes                     0.000000\n",
       "dislike                   0.000000\n",
       "tag appered in title      0.031270\n",
       "views                     0.000000\n",
       "Unnamed: 17              99.968730\n",
       "Unnamed: 18              99.968730\n",
       "dtype: float64"
      ]
     },
     "execution_count": 37,
     "metadata": {},
     "output_type": "execute_result"
    }
   ],
   "source": [
    "#Seeing the null values in percentage\n",
    "\n",
    "df.isnull().sum()*100/df.shape[0]"
   ]
  },
  {
   "cell_type": "code",
   "execution_count": 38,
   "id": "f3f119ab",
   "metadata": {},
   "outputs": [
    {
     "data": {
      "text/plain": [
       "<AxesSubplot:>"
      ]
     },
     "execution_count": 38,
     "metadata": {},
     "output_type": "execute_result"
    },
    {
     "data": {
      "image/png": "[encoded data removed]",
      "text/plain": [
       "<Figure size 1440x720 with 2 Axes>"
      ]
     },
     "metadata": {
      "needs_background": "light"
     },
     "output_type": "display_data"
    }
   ],
   "source": [
    "#visualizing missing values in heatmap\n",
    "import seaborn as sns\n",
    "import matplotlib.pyplot as plt\n",
    "%matplotlib inline\n",
    "plt.figure(figsize=(20, 10))\n",
    "\n",
    "cmap = sns.cubehelix_palette(light=1, as_cmap=True, reverse=True)\n",
    "sns.heatmap(df.isnull(), cmap=cmap)"
   ]
  },
  {
   "cell_type": "code",
   "execution_count": 5,
   "id": "04181c52",
   "metadata": {},
   "outputs": [],
   "source": [
    "#replacing 'na' by 'noaccess'\n",
    "df['tags'].fillna('NoAccess',inplace=True)\n",
    "df['description'].fillna('NoAccess',inplace=True)\n",
    "df['subscriber'].fillna('NoAccess',inplace=True)\n"
   ]
  },
  {
   "cell_type": "code",
   "execution_count": 10,
   "id": "31c0aa5f",
   "metadata": {},
   "outputs": [
    {
     "data": {
      "text/plain": [
       "Video_id                    0\n",
       "category_id                 6\n",
       "channel_title               3\n",
       "subscriber                  0\n",
       "title                       3\n",
       "tags                        0\n",
       "description                 0\n",
       "Trend_day_count             1\n",
       "Tag_count                   1\n",
       "Trend_tag_count             1\n",
       "comment_count               0\n",
       "comment_disabled            0\n",
       "like dislike disabled       0\n",
       "likes                       0\n",
       "dislike                     0\n",
       "tag appered in title        1\n",
       "views                       0\n",
       "Unnamed: 17              3197\n",
       "Unnamed: 18              3197\n",
       "dtype: int64"
      ]
     },
     "execution_count": 10,
     "metadata": {},
     "output_type": "execute_result"
    }
   ],
   "source": [
    "df.isnull().sum()"
   ]
  },
  {
   "cell_type": "code",
   "execution_count": 6,
   "id": "d33c308c",
   "metadata": {},
   "outputs": [],
   "source": [
    "#As the missing value for unnamed:17 and unnamed:18 is more we can remove them from dataset\n",
    "del df['Unnamed: 17']\n",
    "del df['Unnamed: 18']\n"
   ]
  },
  {
   "cell_type": "code",
   "execution_count": 12,
   "id": "1dbe9fcf",
   "metadata": {},
   "outputs": [
    {
     "data": {
      "text/plain": [
       "Video_id                 0\n",
       "category_id              6\n",
       "channel_title            3\n",
       "subscriber               0\n",
       "title                    3\n",
       "tags                     0\n",
       "description              0\n",
       "Trend_day_count          1\n",
       "Tag_count                1\n",
       "Trend_tag_count          1\n",
       "comment_count            0\n",
       "comment_disabled         0\n",
       "like dislike disabled    0\n",
       "likes                    0\n",
       "dislike                  0\n",
       "tag appered in title     1\n",
       "views                    0\n",
       "dtype: int64"
      ]
     },
     "execution_count": 12,
     "metadata": {},
     "output_type": "execute_result"
    }
   ],
   "source": [
    "#Checking if it removed or not\n",
    "df.isnull().sum()\n"
   ]
  },
  {
   "cell_type": "code",
   "execution_count": 7,
   "id": "edb435b3",
   "metadata": {},
   "outputs": [],
   "source": [
    "#Converting the categorical data into numerical\n",
    "\n",
    "df['Tag_count'] =  pd.to_numeric(df['Tag_count'],errors='coerce')\n",
    "df['Trend_tag_count'] =  pd.to_numeric(df['Trend_tag_count'],errors='coerce')\n",
    "df['comment_count'] =  pd.to_numeric(df['comment_count'],errors='coerce')\n",
    "df['likes'] =  pd.to_numeric(df['likes'],errors='coerce')\n",
    "df['dislike'] =  pd.to_numeric(df['dislike'],errors='coerce')\n",
    "df['views'] =  pd.to_numeric(df['views'],errors='coerce')"
   ]
  },
  {
   "cell_type": "code",
   "execution_count": 14,
   "id": "3fa6de53",
   "metadata": {},
   "outputs": [
    {
     "data": {
      "text/plain": [
       "Video_id                  object\n",
       "category_id               object\n",
       "channel_title             object\n",
       "subscriber                object\n",
       "title                     object\n",
       "tags                      object\n",
       "description               object\n",
       "Trend_day_count          float64\n",
       "Tag_count                float64\n",
       "Trend_tag_count          float64\n",
       "comment_count            float64\n",
       "comment_disabled          object\n",
       "like dislike disabled     object\n",
       "likes                    float64\n",
       "dislike                  float64\n",
       "tag appered in title      object\n",
       "views                    float64\n",
       "dtype: object"
      ]
     },
     "execution_count": 14,
     "metadata": {},
     "output_type": "execute_result"
    }
   ],
   "source": [
    "#Checking if the datatype changed\n",
    "\n",
    "df.dtypes"
   ]
  },
  {
   "cell_type": "code",
   "execution_count": 19,
   "id": "7ffc81eb",
   "metadata": {},
   "outputs": [
    {
     "data": {
      "text/html": [
       "<div>\n",
       "<style scoped>\n",
       "    .dataframe tbody tr th:only-of-type {\n",
       "        vertical-align: middle;\n",
       "    }\n",
       "\n",
       "    .dataframe tbody tr th {\n",
       "        vertical-align: top;\n",
       "    }\n",
       "\n",
       "    .dataframe thead th {\n",
       "        text-align: right;\n",
       "    }\n",
       "</style>\n",
       "<table border=\"1\" class=\"dataframe\">\n",
       "  <thead>\n",
       "    <tr style=\"text-align: right;\">\n",
       "      <th></th>\n",
       "      <th>Trend_day_count</th>\n",
       "      <th>Tag_count</th>\n",
       "      <th>Trend_tag_count</th>\n",
       "      <th>comment_count</th>\n",
       "      <th>likes</th>\n",
       "      <th>dislike</th>\n",
       "      <th>views</th>\n",
       "    </tr>\n",
       "  </thead>\n",
       "  <tbody>\n",
       "    <tr>\n",
       "      <th>count</th>\n",
       "      <td>3197.000000</td>\n",
       "      <td>3196.000000</td>\n",
       "      <td>3195.000000</td>\n",
       "      <td>2183.000000</td>\n",
       "      <td>3.197000e+03</td>\n",
       "      <td>3197.000000</td>\n",
       "      <td>3.197000e+03</td>\n",
       "    </tr>\n",
       "    <tr>\n",
       "      <th>mean</th>\n",
       "      <td>7.964342</td>\n",
       "      <td>18.620776</td>\n",
       "      <td>7.119875</td>\n",
       "      <td>164789.284013</td>\n",
       "      <td>9.766148e+03</td>\n",
       "      <td>5784.686268</td>\n",
       "      <td>1.572121e+06</td>\n",
       "    </tr>\n",
       "    <tr>\n",
       "      <th>std</th>\n",
       "      <td>78.556055</td>\n",
       "      <td>80.379328</td>\n",
       "      <td>175.138956</td>\n",
       "      <td>81113.887992</td>\n",
       "      <td>2.240680e+04</td>\n",
       "      <td>4860.754493</td>\n",
       "      <td>2.053853e+07</td>\n",
       "    </tr>\n",
       "    <tr>\n",
       "      <th>min</th>\n",
       "      <td>0.000000</td>\n",
       "      <td>0.000000</td>\n",
       "      <td>1.000000</td>\n",
       "      <td>10.000000</td>\n",
       "      <td>0.000000e+00</td>\n",
       "      <td>0.000000</td>\n",
       "      <td>1.000000e+00</td>\n",
       "    </tr>\n",
       "    <tr>\n",
       "      <th>25%</th>\n",
       "      <td>4.000000</td>\n",
       "      <td>12.000000</td>\n",
       "      <td>2.000000</td>\n",
       "      <td>95358.000000</td>\n",
       "      <td>0.000000e+00</td>\n",
       "      <td>0.000000</td>\n",
       "      <td>4.305820e+05</td>\n",
       "    </tr>\n",
       "    <tr>\n",
       "      <th>50%</th>\n",
       "      <td>7.000000</td>\n",
       "      <td>17.000000</td>\n",
       "      <td>4.000000</td>\n",
       "      <td>163785.000000</td>\n",
       "      <td>1.022700e+04</td>\n",
       "      <td>5354.000000</td>\n",
       "      <td>7.081770e+05</td>\n",
       "    </tr>\n",
       "    <tr>\n",
       "      <th>75%</th>\n",
       "      <td>10.000000</td>\n",
       "      <td>21.000000</td>\n",
       "      <td>6.000000</td>\n",
       "      <td>238419.500000</td>\n",
       "      <td>1.505300e+04</td>\n",
       "      <td>10042.000000</td>\n",
       "      <td>1.204461e+06</td>\n",
       "    </tr>\n",
       "    <tr>\n",
       "      <th>max</th>\n",
       "      <td>4444.000000</td>\n",
       "      <td>3225.000000</td>\n",
       "      <td>9903.000000</td>\n",
       "      <td>299877.000000</td>\n",
       "      <td>1.213628e+06</td>\n",
       "      <td>14858.000000</td>\n",
       "      <td>9.898735e+08</td>\n",
       "    </tr>\n",
       "  </tbody>\n",
       "</table>\n",
       "</div>"
      ],
      "text/plain": [
       "       Trend_day_count    Tag_count  Trend_tag_count  comment_count  \\\n",
       "count      3197.000000  3196.000000      3195.000000    2183.000000   \n",
       "mean          7.964342    18.620776         7.119875  164789.284013   \n",
       "std          78.556055    80.379328       175.138956   81113.887992   \n",
       "min           0.000000     0.000000         1.000000      10.000000   \n",
       "25%           4.000000    12.000000         2.000000   95358.000000   \n",
       "50%           7.000000    17.000000         4.000000  163785.000000   \n",
       "75%          10.000000    21.000000         6.000000  238419.500000   \n",
       "max        4444.000000  3225.000000      9903.000000  299877.000000   \n",
       "\n",
       "              likes       dislike         views  \n",
       "count  3.197000e+03   3197.000000  3.197000e+03  \n",
       "mean   9.766148e+03   5784.686268  1.572121e+06  \n",
       "std    2.240680e+04   4860.754493  2.053853e+07  \n",
       "min    0.000000e+00      0.000000  1.000000e+00  \n",
       "25%    0.000000e+00      0.000000  4.305820e+05  \n",
       "50%    1.022700e+04   5354.000000  7.081770e+05  \n",
       "75%    1.505300e+04  10042.000000  1.204461e+06  \n",
       "max    1.213628e+06  14858.000000  9.898735e+08  "
      ]
     },
     "execution_count": 19,
     "metadata": {},
     "output_type": "execute_result"
    }
   ],
   "source": [
    "df.describe()"
   ]
  },
  {
   "cell_type": "code",
   "execution_count": null,
   "id": "c0ddc974",
   "metadata": {},
   "outputs": [],
   "source": [
    "FROM THE ABOVE DESCRIPTION WE CAN FIND THAT \"Trend_day_count,Tag_count,Trend_tag_count AND views\" ARE HIGHLY SKEWED.\n",
    "SO LET US PERFORM SKEW TO ALL THESE COLUMNS AND VISUALIZE THE VALUES."
   ]
  },
  {
   "cell_type": "code",
   "execution_count": 20,
   "id": "bd08f8a5",
   "metadata": {},
   "outputs": [
    {
     "data": {
      "text/plain": [
       "56.37807378711469"
      ]
     },
     "execution_count": 20,
     "metadata": {},
     "output_type": "execute_result"
    }
   ],
   "source": [
    "#skew value of trend_day_count\n",
    "\n",
    "df['Trend_day_count'].skew()"
   ]
  },
  {
   "cell_type": "code",
   "execution_count": 22,
   "id": "83dc674c",
   "metadata": {},
   "outputs": [
    {
     "name": "stderr",
     "output_type": "stream",
     "text": [
      "C:\\Users\\keert\\anaconda3\\lib\\site-packages\\seaborn\\_decorators.py:36: FutureWarning: Pass the following variable as a keyword arg: x. From version 0.12, the only valid positional argument will be `data`, and passing other arguments without an explicit keyword will result in an error or misinterpretation.\n",
      "  warnings.warn(\n"
     ]
    },
    {
     "data": {
      "text/plain": [
       "<AxesSubplot:xlabel='Trend_day_count'>"
      ]
     },
     "execution_count": 22,
     "metadata": {},
     "output_type": "execute_result"
    },
    {
     "data": {
      "image/png": "[encoded data removed]",
      "text/plain": [
       "<Figure size 432x288 with 1 Axes>"
      ]
     },
     "metadata": {
      "needs_background": "light"
     },
     "output_type": "display_data"
    }
   ],
   "source": [
    "sn.boxplot(df['Trend_day_count'])"
   ]
  },
  {
   "cell_type": "code",
   "execution_count": 23,
   "id": "6c2b9fca",
   "metadata": {},
   "outputs": [
    {
     "data": {
      "text/plain": [
       "39.70356242727037"
      ]
     },
     "execution_count": 23,
     "metadata": {},
     "output_type": "execute_result"
    }
   ],
   "source": [
    "#skew value of tag_count\n",
    "\n",
    "df['Tag_count'].skew()"
   ]
  },
  {
   "cell_type": "code",
   "execution_count": 25,
   "id": "ea054b73",
   "metadata": {},
   "outputs": [
    {
     "name": "stderr",
     "output_type": "stream",
     "text": [
      "C:\\Users\\keert\\anaconda3\\lib\\site-packages\\seaborn\\_decorators.py:36: FutureWarning: Pass the following variable as a keyword arg: x. From version 0.12, the only valid positional argument will be `data`, and passing other arguments without an explicit keyword will result in an error or misinterpretation.\n",
      "  warnings.warn(\n"
     ]
    },
    {
     "data": {
      "text/plain": [
       "<AxesSubplot:xlabel='Tag_count'>"
      ]
     },
     "execution_count": 25,
     "metadata": {},
     "output_type": "execute_result"
    },
    {
     "data": {
      "image/png": "[encoded data removed]",
      "text/plain": [
       "<Figure size 432x288 with 1 Axes>"
      ]
     },
     "metadata": {
      "needs_background": "light"
     },
     "output_type": "display_data"
    }
   ],
   "source": [
    "sn.boxplot(df['Tag_count'])"
   ]
  },
  {
   "cell_type": "code",
   "execution_count": 26,
   "id": "289532b6",
   "metadata": {},
   "outputs": [
    {
     "data": {
      "text/plain": [
       "56.513465727391065"
      ]
     },
     "execution_count": 26,
     "metadata": {},
     "output_type": "execute_result"
    }
   ],
   "source": [
    "#skew value of trend_tag_count\n",
    "\n",
    "df['Trend_tag_count'].skew()"
   ]
  },
  {
   "cell_type": "code",
   "execution_count": 27,
   "id": "c73dc0cc",
   "metadata": {},
   "outputs": [
    {
     "name": "stderr",
     "output_type": "stream",
     "text": [
      "C:\\Users\\keert\\anaconda3\\lib\\site-packages\\seaborn\\_decorators.py:36: FutureWarning: Pass the following variable as a keyword arg: x. From version 0.12, the only valid positional argument will be `data`, and passing other arguments without an explicit keyword will result in an error or misinterpretation.\n",
      "  warnings.warn(\n"
     ]
    },
    {
     "data": {
      "text/plain": [
       "<AxesSubplot:xlabel='Trend_tag_count'>"
      ]
     },
     "execution_count": 27,
     "metadata": {},
     "output_type": "execute_result"
    },
    {
     "data": {
      "image/png": "[encoded data removed]",
      "text/plain": [
       "<Figure size 432x288 with 1 Axes>"
      ]
     },
     "metadata": {
      "needs_background": "light"
     },
     "output_type": "display_data"
    }
   ],
   "source": [
    "sn.boxplot(df['Trend_tag_count'])"
   ]
  },
  {
   "cell_type": "code",
   "execution_count": null,
   "id": "96ce7e95",
   "metadata": {},
   "outputs": [],
   "source": [
    "#skew value of views\n",
    "\n",
    "df['views'].skew()"
   ]
  },
  {
   "cell_type": "code",
   "execution_count": 29,
   "id": "6b0b4721",
   "metadata": {},
   "outputs": [
    {
     "name": "stderr",
     "output_type": "stream",
     "text": [
      "C:\\Users\\keert\\anaconda3\\lib\\site-packages\\seaborn\\_decorators.py:36: FutureWarning: Pass the following variable as a keyword arg: x. From version 0.12, the only valid positional argument will be `data`, and passing other arguments without an explicit keyword will result in an error or misinterpretation.\n",
      "  warnings.warn(\n"
     ]
    },
    {
     "data": {
      "text/plain": [
       "<AxesSubplot:xlabel='views'>"
      ]
     },
     "execution_count": 29,
     "metadata": {},
     "output_type": "execute_result"
    },
    {
     "data": {
      "image/png": "[encoded data removed]",
      "text/plain": [
       "<Figure size 432x288 with 1 Axes>"
      ]
     },
     "metadata": {
      "needs_background": "light"
     },
     "output_type": "display_data"
    }
   ],
   "source": [
    "sn.boxplot(df['views'])"
   ]
  },
  {
   "cell_type": "code",
   "execution_count": 13,
   "id": "11ebd659",
   "metadata": {},
   "outputs": [],
   "source": [
    "#removing the outliers based on highly skewed values\n",
    " \n",
    "for x in ['Trend_day_count']:\n",
    "    q75,q25 = np.percentile(df.loc[:,x],[75,25])\n",
    "    intr_qr = q75-q25\n",
    " \n",
    "    max = q75+(1.5*intr_qr)\n",
    "    min = q25-(1.5*intr_qr)\n",
    " \n",
    "    df.loc[df[x] < min,x] = np.nan\n",
    "    df.loc[df[x] > max,x] = np.nan"
   ]
  },
  {
   "cell_type": "code",
   "execution_count": 12,
   "id": "ea076750",
   "metadata": {},
   "outputs": [],
   "source": [
    "#removing the outliers based on highly skewed values\n",
    "\n",
    "for x in ['Trend_tag_count']:\n",
    "    q75,q25 = np.percentile(df.loc[:,x],[75,25])\n",
    "    intr_qr = q75-q25\n",
    " \n",
    "    max = q75+(1.5*intr_qr)\n",
    "    min = q25-(1.5*intr_qr)\n",
    " \n",
    "    df.loc[df[x] < min,x] = np.nan\n",
    "    df.loc[df[x] > max,x] = np.nan"
   ]
  },
  {
   "cell_type": "code",
   "execution_count": 11,
   "id": "93d88205",
   "metadata": {},
   "outputs": [],
   "source": [
    "#removing the outliers based on highly skewed values\n",
    " \n",
    "for x in ['Tag_count']:\n",
    "    q75,q25 = np.percentile(df.loc[:,x],[75,25])\n",
    "    intr_qr = q75-q25\n",
    " \n",
    "    max = q75+(1.5*intr_qr)\n",
    "    min = q25-(1.5*intr_qr)\n",
    " \n",
    "    df.loc[df[x] < min,x] = np.nan\n",
    "    df.loc[df[x] > max,x] = np.nan"
   ]
  },
  {
   "cell_type": "code",
   "execution_count": 14,
   "id": "e4961c74",
   "metadata": {},
   "outputs": [],
   "source": [
    "#removing the outliers based on highly skewed values\n",
    " \n",
    "for x in ['views']:\n",
    "    q75,q25 = np.percentile(df.loc[:,x],[75,25])\n",
    "    intr_qr = q75-q25\n",
    " \n",
    "    max = q75+(1.5*intr_qr)\n",
    "    min = q25-(1.5*intr_qr)\n",
    " \n",
    "    df.loc[df[x] < min,x] = np.nan\n",
    "    df.loc[df[x] > max,x] = np.nan"
   ]
  },
  {
   "cell_type": "code",
   "execution_count": 15,
   "id": "2f376ba6",
   "metadata": {},
   "outputs": [
    {
     "data": {
      "text/plain": [
       "Video_id                    0\n",
       "category_id                 6\n",
       "channel_title               3\n",
       "subscriber                  0\n",
       "title                       3\n",
       "tags                        0\n",
       "description                 0\n",
       "Trend_day_count             1\n",
       "Tag_count                   2\n",
       "Trend_tag_count             3\n",
       "comment_count            1015\n",
       "comment_disabled            0\n",
       "like dislike disabled       0\n",
       "likes                       1\n",
       "dislike                     1\n",
       "tag appered in title        1\n",
       "views                       1\n",
       "dtype: int64"
      ]
     },
     "execution_count": 15,
     "metadata": {},
     "output_type": "execute_result"
    }
   ],
   "source": [
    "df.isnull().sum()"
   ]
  },
  {
   "cell_type": "code",
   "execution_count": 21,
   "id": "0ff13bc5",
   "metadata": {},
   "outputs": [
    {
     "data": {
      "text/plain": [
       "91013.0     3\n",
       "38536.0     2\n",
       "157352.0    2\n",
       "267923.0    2\n",
       "286423.0    2\n",
       "           ..\n",
       "42943.0     1\n",
       "199322.0    1\n",
       "24984.0     1\n",
       "241812.0    1\n",
       "32337.0     1\n",
       "Name: comment_count, Length: 2173, dtype: int64"
      ]
     },
     "execution_count": 21,
     "metadata": {},
     "output_type": "execute_result"
    }
   ],
   "source": [
    "df['comment_count'].value_counts()"
   ]
  },
  {
   "cell_type": "code",
   "execution_count": null,
   "id": "a148e54c",
   "metadata": {},
   "outputs": [],
   "source": [
    "WE CAN SEE THAT OUT OF 2173 DATA 1015 DATA VALUES ARE MISSING WITH THIS WE CANNOT FIND THE ACCURATE ANALYSIS\n",
    "SO LETS REMOVE THE 'comment_count'"
   ]
  },
  {
   "cell_type": "code",
   "execution_count": 16,
   "id": "092657ec",
   "metadata": {},
   "outputs": [],
   "source": [
    "del df['comment_count']"
   ]
  },
  {
   "cell_type": "code",
   "execution_count": 37,
   "id": "021ba675",
   "metadata": {},
   "outputs": [
    {
     "data": {
      "text/plain": [
       "<AxesSubplot:>"
      ]
     },
     "execution_count": 37,
     "metadata": {},
     "output_type": "execute_result"
    },
    {
     "data": {
      "image/png": "[encoded data removed]",
      "text/plain": [
       "<Figure size 1440x720 with 2 Axes>"
      ]
     },
     "metadata": {
      "needs_background": "light"
     },
     "output_type": "display_data"
    }
   ],
   "source": [
    "#Now lets visualize the missing value in heatmap\n",
    "\n",
    "import seaborn as sns\n",
    "import matplotlib.pyplot as plt\n",
    "%matplotlib inline\n",
    "plt.figure(figsize=(20, 10))\n",
    "\n",
    "cmap = sns.cubehelix_palette(light=1, as_cmap=True, reverse=True)\n",
    "sns.heatmap(df.isnull(), cmap=cmap)"
   ]
  },
  {
   "cell_type": "code",
   "execution_count": null,
   "id": "c42d820c",
   "metadata": {},
   "outputs": [],
   "source": [
    "AS THE DATA MISSING FROM THE COLUMNS ARE LESS THAN 5% WE CAN REMOVE THOSE DATA FROM THE DATASET"
   ]
  },
  {
   "cell_type": "code",
   "execution_count": 23,
   "id": "c86d9f6e",
   "metadata": {},
   "outputs": [
    {
     "name": "stdout",
     "output_type": "stream",
     "text": [
      "(3198, 16)\n",
      "(3181, 16)\n"
     ]
    }
   ],
   "source": [
    "# printing initial shape\n",
    "print(df.shape)\n",
    "df.dropna(inplace=True)\n",
    "\n",
    "# final shape of the data with\n",
    "# missing rows removed\n",
    "print(df.shape)\n"
   ]
  },
  {
   "cell_type": "code",
   "execution_count": 67,
   "id": "fd73360f",
   "metadata": {},
   "outputs": [
    {
     "data": {
      "text/plain": [
       "Video_id                 0\n",
       "category_id              0\n",
       "channel_title            0\n",
       "subscriber               0\n",
       "title                    0\n",
       "tags                     0\n",
       "description              0\n",
       "Trend_day_count          0\n",
       "Tag_count                0\n",
       "Trend_tag_count          0\n",
       "comment_disabled         0\n",
       "like dislike disabled    0\n",
       "likes                    0\n",
       "dislike                  0\n",
       "tag appered in title     0\n",
       "views                    0\n",
       "dtype: int64"
      ]
     },
     "execution_count": 67,
     "metadata": {},
     "output_type": "execute_result"
    }
   ],
   "source": [
    "#We have cleaned the dataset\n",
    "df.isnull().sum()"
   ]
  },
  {
   "cell_type": "code",
   "execution_count": null,
   "id": "6944933b",
   "metadata": {},
   "outputs": [],
   "source": [
    "NOW WE CAN PERFORM SOME ANALYSIS ON THE DATASET"
   ]
  },
  {
   "cell_type": "code",
   "execution_count": 70,
   "id": "f861ca8c",
   "metadata": {},
   "outputs": [],
   "source": [
    "correlation=df.corr()"
   ]
  },
  {
   "cell_type": "code",
   "execution_count": 74,
   "id": "a6643c2e",
   "metadata": {},
   "outputs": [
    {
     "data": {
      "text/plain": [
       "<AxesSubplot:>"
      ]
     },
     "execution_count": 74,
     "metadata": {},
     "output_type": "execute_result"
    },
    {
     "data": {
      "image/png": "[encoded data removed]",
      "text/plain": [
       "<Figure size 432x288 with 2 Axes>"
      ]
     },
     "metadata": {
      "needs_background": "light"
     },
     "output_type": "display_data"
    }
   ],
   "source": [
    "sn.heatmap(correlation,xticklabels=correlation.columns,yticklabels=correlation.columns,annot=True)"
   ]
  },
  {
   "cell_type": "code",
   "execution_count": 85,
   "id": "34cbff60",
   "metadata": {},
   "outputs": [
    {
     "data": {
      "text/plain": [
       "array([[<AxesSubplot:title={'center':'Trend_day_count'}>,\n",
       "        <AxesSubplot:title={'center':'Tag_count'}>],\n",
       "       [<AxesSubplot:title={'center':'Trend_tag_count'}>,\n",
       "        <AxesSubplot:title={'center':'likes'}>],\n",
       "       [<AxesSubplot:title={'center':'dislike'}>,\n",
       "        <AxesSubplot:title={'center':'views'}>]], dtype=object)"
      ]
     },
     "execution_count": 85,
     "metadata": {},
     "output_type": "execute_result"
    },
    {
     "data": {
      "image/png": "[encoded data removed]",
      "text/plain": [
       "<Figure size 1440x720 with 6 Axes>"
      ]
     },
     "metadata": {
      "needs_background": "light"
     },
     "output_type": "display_data"
    }
   ],
   "source": [
    "df.hist(bins=60,figsize=(20,10))"
   ]
  },
  {
   "cell_type": "code",
   "execution_count": 24,
   "id": "9789a8d7",
   "metadata": {},
   "outputs": [
    {
     "data": {
      "text/plain": [
       "subscriber  tags                                                                                                                                                                                                                                                                                                                                                                                                                                                 \n",
       "0.0         American Broadcasting Company|ABC|ABC Network|Television|TV|what to watch|trailer|tv show|Television Program|Taylor Swift|New Year's Day|Performance|Reputation                                                                                                                                                                                                                                                                                          1\n",
       "            American Broadcasting Company|ABC|ABC Network|Television|TV|what to watch|trailer|tv show|Television Program|alex inc|zach braff|tiya sircar|elisha henig|Audyssie James|Hillary Anne Matthews|Michael Imperioli|Alex Schuman|Soraya Schuman|Ben Schuman|Deirdre Riordan|Rooni Schuman|Eddie Ramirez                                                                                                                                                     1\n",
       "            Any rubbish|funny|funny video|funny videos|entertainment|fun|amazing|amazing videos|cool|cool video|fail|fails|epic fail|prikol|prikoli|Russia|Russians|crazy Russians|crazy                                                                                                                                                                                                                                                                             1\n",
       "            CBS 4 News Morning|La David Johnson|Joan Murray|Soldiers Ambushed|Niger                                                                                                                                                                                                                                                                                                                                                                                  1\n",
       "            CBS2 News At 11|Apple|iPhone|Apple batteries|iPhone batteries|technology|Alice Gainer                                                                                                                                                                                                                                                                                                                                                                    1\n",
       "                                                                                                                                                                                                                                                                                                                                                                                                                                                                    ..\n",
       "NoAccess    music|chill|trap|lyrics|musica|letras|vaporwave|soft|suave|relax|electronic|sounds|amas|American Music Awards|amas 2017|AMA|PINK|Skycrapper Presentation|Dangerous|Pink|p!nk                                                                                                                                                                                                                                                                             1\n",
       "            selena gomez instagram full|instagram live selena gomez|style|teens|acoustic|guitar|beauty|home|selana at home                                                                                                                                                                                                                                                                                                                                           1\n",
       "            tariq nasheed|tommy sotomayor|problack|alex jones|republican|democrat|blm|black lives matter|sjw|social justice warrior|fox news|fake news|all lives matter|antifa|internet nutrality|corey holcomn|wille d|dr umar johnson|dl hughley|conscious community|its okay to be white|roy moore|liberal|alex jones fake news cnn|professor griff|higher learning|michael rapaport|remy|david banner|corey holcomb|stephan a smith|keisha bottoms|damn album    1\n",
       "            the breakfast club|power1051|celebrity news|radio|video|interview|angela yee|charlamagne tha god|dj envy                                                                                                                                                                                                                                                                                                                                                 1\n",
       "            yoga|yoga with adriene|30 days of yoga|30 day yoga challenge|TRUE 30 days of yoga|at home yoga|free yoga|yoga practice|wellness|fitness|health|yoga for weight loss|yoga life|adriene mishler|TRUE day one|30 day challenge|yoga for beginners|yoga workout|motive|motivation                                                                                                                                                                            1\n",
       "Length: 3060, dtype: int64"
      ]
     },
     "execution_count": 24,
     "metadata": {},
     "output_type": "execute_result"
    }
   ],
   "source": [
    "#Comparing the categorical variables \n",
    "\n",
    "counts=df.groupby(['subscriber','tags'],axis=0)\n",
    "counts.size()\n"
   ]
  },
  {
   "cell_type": "code",
   "execution_count": 87,
   "id": "39e674cb",
   "metadata": {},
   "outputs": [
    {
     "data": {
      "text/plain": [
       "<AxesSubplot:>"
      ]
     },
     "execution_count": 87,
     "metadata": {},
     "output_type": "execute_result"
    },
    {
     "data": {
      "image/png": "[encoded data removed]",
      "text/plain": [
       "<Figure size 2160x1440 with 1 Axes>"
      ]
     },
     "metadata": {
      "needs_background": "light"
     },
     "output_type": "display_data"
    }
   ],
   "source": [
    "pd.DataFrame(df['subscriber'].value_counts()).plot(kind='bar', figsize=(30,20))"
   ]
  },
  {
   "cell_type": "code",
   "execution_count": 17,
   "id": "6fb4c355",
   "metadata": {},
   "outputs": [
    {
     "data": {
      "text/plain": [
       "Video_id                  object\n",
       "category_id               object\n",
       "channel_title             object\n",
       "subscriber                object\n",
       "title                     object\n",
       "tags                      object\n",
       "description               object\n",
       "Trend_day_count          float64\n",
       "Tag_count                float64\n",
       "Trend_tag_count          float64\n",
       "comment_disabled          object\n",
       "like dislike disabled     object\n",
       "likes                    float64\n",
       "dislike                  float64\n",
       "tag appered in title      object\n",
       "views                    float64\n",
       "dtype: object"
      ]
     },
     "execution_count": 17,
     "metadata": {},
     "output_type": "execute_result"
    }
   ],
   "source": [
    "df.dtypes"
   ]
  },
  {
   "cell_type": "code",
   "execution_count": 24,
   "id": "0392ee0c",
   "metadata": {},
   "outputs": [
    {
     "name": "stdout",
     "output_type": "stream",
     "text": [
      "Subscriber and Likes are dependent as the p_value(1.0)>0.05\n"
     ]
    }
   ],
   "source": [
    "#CHI SQUARE\n",
    "\n",
    "h0='Subscriber and Likes are dependent'\n",
    "ha='Subscriber and Likes are not dependent'\n",
    "crosstab=pd.crosstab(df['subscriber'],df['likes'])\n",
    "chi,p_value,dof,expected=stats.chi2_contingency(crosstab)\n",
    "if p_value<0.05:\n",
    "  print(f'{ha} as the p_value({p_value.round(3)})<0.05')\n",
    "else:\n",
    "  print(f'{h0} as the p_value({p_value.round(3)})>0.05')"
   ]
  },
  {
   "cell_type": "code",
   "execution_count": 25,
   "id": "a1f48802",
   "metadata": {},
   "outputs": [
    {
     "name": "stdout",
     "output_type": "stream",
     "text": [
      "Title and Likes are dependent as the p_value(0.35)>0.05\n"
     ]
    }
   ],
   "source": [
    "#CHI SQUARE\n",
    "\n",
    "h0='Title and Likes are dependent'\n",
    "ha='Title and Likes are not dependent'\n",
    "crosstab=pd.crosstab(df['title'],df['likes'])\n",
    "chi,p_value,dof,expected=stats.chi2_contingency(crosstab)\n",
    "if p_value<0.05:\n",
    "  print(f'{ha} as the p_value({p_value.round(3)})<0.05')\n",
    "else:\n",
    "  print(f'{h0} as the p_value({p_value.round(3)})>0.05')"
   ]
  },
  {
   "cell_type": "code",
   "execution_count": 26,
   "id": "7083509f",
   "metadata": {},
   "outputs": [
    {
     "name": "stdout",
     "output_type": "stream",
     "text": [
      "Trend_day_count and Likes are dependent as the p_value(0.997)>0.05\n"
     ]
    }
   ],
   "source": [
    "#CHI SQUARE\n",
    "\n",
    "h0='Trend_day_count and Likes are dependent'\n",
    "ha='Trend_day_count and Likes are not dependent'\n",
    "crosstab=pd.crosstab(df['Trend_day_count'],df['likes'])\n",
    "chi,p_value,dof,expected=stats.chi2_contingency(crosstab)\n",
    "if p_value<0.05:\n",
    "  print(f'{ha} as the p_value({p_value.round(3)})<0.05')\n",
    "else:\n",
    "  print(f'{h0} as the p_value({p_value.round(3)})>0.05')"
   ]
  },
  {
   "cell_type": "code",
   "execution_count": 27,
   "id": "83615a3a",
   "metadata": {},
   "outputs": [
    {
     "name": "stdout",
     "output_type": "stream",
     "text": [
      "Subscriber and Likes are not dependent as the p_value(0.0)<0.05\n"
     ]
    }
   ],
   "source": [
    "#CHI SQUARE\n",
    "\n",
    "h0='Trend_tag_count and Likes are dependent'\n",
    "ha='Trend_tag_coutand Likes are not dependent'\n",
    "crosstab=pd.crosstab(df['Trend_tag_count'],df['likes'])\n",
    "chi,p_value,dof,expected=stats.chi2_contingency(crosstab)\n",
    "if p_value<0.05:\n",
    "  print(f'{ha} as the p_value({p_value.round(3)})<0.05')\n",
    "else:\n",
    "  print(f'{h0} as the p_value({p_value.round(3)})>0.05')"
   ]
  },
  {
   "cell_type": "code",
   "execution_count": 28,
   "id": "d81d074f",
   "metadata": {},
   "outputs": [
    {
     "name": "stdout",
     "output_type": "stream",
     "text": [
      "Title and disLikes are dependent as the p_value(0.168)>0.05\n"
     ]
    }
   ],
   "source": [
    "#CHI SQUARE\n",
    "\n",
    "h0='Title and disLikes are dependent'\n",
    "ha='Title and disLikes are not dependent'\n",
    "crosstab=pd.crosstab(df['title'],df['dislike'])\n",
    "chi,p_value,dof,expected=stats.chi2_contingency(crosstab)\n",
    "if p_value<0.05:\n",
    "  print(f'{ha} as the p_value({p_value.round(3)})<0.05')\n",
    "else:\n",
    "  print(f'{h0} as the p_value({p_value.round(3)})>0.05')"
   ]
  },
  {
   "cell_type": "code",
   "execution_count": 29,
   "id": "7630d3cc",
   "metadata": {},
   "outputs": [
    {
     "name": "stdout",
     "output_type": "stream",
     "text": [
      "Title and views are dependent as the p_value(0.241)>0.05\n"
     ]
    }
   ],
   "source": [
    "#CHI SQUARE\n",
    "\n",
    "h0='Title and views are dependent'\n",
    "ha='Title and views are not dependent'\n",
    "crosstab=pd.crosstab(df['title'],df['views'])\n",
    "chi,p_value,dof,expected=stats.chi2_contingency(crosstab)\n",
    "if p_value<0.05:\n",
    "  print(f'{ha} as the p_value({p_value.round(3)})<0.05')\n",
    "else:\n",
    "  print(f'{h0} as the p_value({p_value.round(3)})>0.05')"
   ]
  }
 ],
 "metadata": {
  "kernelspec": {
   "display_name": "Python 3 (ipykernel)",
   "language": "python",
   "name": "python3"
  },
  "language_info": {
   "codemirror_mode": {
    "name": "ipython",
    "version": 3
   },
   "file_extension": ".py",
   "mimetype": "text/x-python",
   "name": "python",
   "nbconvert_exporter": "python",
   "pygments_lexer": "ipython3",
   "version": "3.9.12"
  }
 },
 "nbformat": 4,
 "nbformat_minor": 5
}
